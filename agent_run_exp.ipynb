{
 "cells": [
  {
   "attachments": {},
   "cell_type": "markdown",
   "metadata": {},
   "source": [
    "### Expriment Code [Using GPT API]:"
   ]
  },
  {
   "attachments": {},
   "cell_type": "markdown",
   "metadata": {},
   "source": [
    "##### Load Dataset 读取数据集"
   ]
  },
  {
   "cell_type": "code",
   "execution_count": 1,
   "metadata": {},
   "outputs": [],
   "source": [
    "import os\n",
    "import json\n",
    "import sys\n",
    "import glob\n",
    "import gzip\n",
    "\n",
    "# load dataset function\n",
    "def load_split(dataset_dir, split):\n",
    "    # dataset_dir: root path of dataset\n",
    "    # split: either \"debug\",\"train\",\"val\" or \"test\"\n",
    "    # each dataset contains many episodes, which are all \".json.gz\" zip file.\n",
    "    split_paths = os.path.join(dataset_dir, split, \"episodes\", \"*.json.gz\")\n",
    "    split_paths = sorted(glob.glob(split_paths))\n",
    "\n",
    "    episode_list = []\n",
    "    dataset = {}\n",
    "\n",
    "    for split_path in split_paths:\n",
    "        # print(\"Loading: {path}\".format(path=split_path))\n",
    "\n",
    "        with gzip.GzipFile(split_path, \"r\") as f:\n",
    "            episodes = json.loads(f.read().decode(\"utf-8\"))\n",
    "\n",
    "            # Build a dictionary of the dataset indexed by scene, object_type\n",
    "            curr_scene = None\n",
    "            curr_object = None\n",
    "            points = []\n",
    "            scene_points = {}\n",
    "            for data_point in episodes:\n",
    "                if curr_object != data_point[\"object_type\"]:\n",
    "                    scene_points[curr_object] = points\n",
    "                    curr_object = data_point[\"object_type\"]\n",
    "                    points = []\n",
    "                if curr_scene != data_point[\"scene\"]:\n",
    "                    dataset[curr_scene] = scene_points\n",
    "                    curr_scene = data_point[\"scene\"]\n",
    "                    scene_points = {}\n",
    "\n",
    "                points.append(data_point)\n",
    "\n",
    "            episode_list += episodes\n",
    "    # reutrn type:\n",
    "    #    episode_list: list of init scene and target data, for setting and val.\n",
    "    #    dataset: dict of train path to nav object, for training.\n",
    "    return episode_list, dataset\n",
    "\n",
    "\n",
    "def load_dataset_episode(dataset_path, split_name, index):\n",
    "    test_episodes, dataset = load_split(\n",
    "        dataset_dir=dataset_path, split=split_name)\n",
    "    # print(\"episodes len: %d\" % len(test_episodes))\n",
    "    ep = test_episodes[index]\n",
    "\n",
    "    return ep"
   ]
  },
  {
   "cell_type": "markdown",
   "metadata": {},
   "source": [
    "#### 手动执行 Agent"
   ]
  },
  {
   "cell_type": "code",
   "execution_count": 2,
   "metadata": {},
   "outputs": [],
   "source": [
    "from llm_obj_nav_agent import Agent, OpType\n",
    "\n",
    "dataset_path = \"/home/nickbit/ai2thor/dataset/\"\n",
    "split_name = \"val\" # for some reason, \"test\" set are not provided by aithor 5.0.0\n",
    "\n",
    "agent = Agent(action_type=OpType.EIGHT_DIR_MOVE,\n",
    "              grid_size=0.2)"
   ]
  },
  {
   "cell_type": "code",
   "execution_count": 3,
   "metadata": {},
   "outputs": [
    {
     "name": "stdout",
     "output_type": "stream",
     "text": [
      "episodes len: 2040\n"
     ]
    }
   ],
   "source": [
    "test_episodes, dataset = load_split(dataset_dir=dataset_path , split=split_name)\n",
    "print(\"episodes len: %d\" % len(test_episodes))\n",
    "\n",
    "# ep = test_episodes[101]\n",
    "# print(ep)"
   ]
  },
  {
   "cell_type": "code",
   "execution_count": null,
   "metadata": {},
   "outputs": [],
   "source": [
    "# sub_eps = []\n",
    "# sub_obj_types = []\n",
    "# for i in range(len(test_episodes)):\n",
    "#     ep = test_episodes[i]\n",
    "#     obj_type = ep['object_type']\n",
    "#     if obj_type not in sub_obj_types:\n",
    "#         sub_obj_types.append(obj_type)\n",
    "#         sub_eps.append(ep)\n",
    "#     else:\n",
    "#         if i % 50 == 1:\n",
    "#             sub_eps.append(ep)\n",
    "\n",
    "# print(len(sub_eps))"
   ]
  },
  {
   "cell_type": "code",
   "execution_count": null,
   "metadata": {},
   "outputs": [],
   "source": [
    "# \n",
    "ep = test_episodes[0]\n",
    "agent.mannual_do_first_step(ep)"
   ]
  },
  {
   "cell_type": "code",
   "execution_count": null,
   "metadata": {},
   "outputs": [],
   "source": [
    "agent.mannual_do_step()"
   ]
  },
  {
   "cell_type": "code",
   "execution_count": null,
   "metadata": {},
   "outputs": [],
   "source": [
    "agent.draw_position_points()"
   ]
  },
  {
   "cell_type": "code",
   "execution_count": null,
   "metadata": {},
   "outputs": [],
   "source": [
    "event = agent.make_controller_single_action(\"RotateRight\", 90)"
   ]
  },
  {
   "cell_type": "code",
   "execution_count": null,
   "metadata": {},
   "outputs": [],
   "source": [
    "# event = agent.make_controller_single_action(\"MoveAhead\", 0)"
   ]
  },
  {
   "cell_type": "code",
   "execution_count": null,
   "metadata": {},
   "outputs": [],
   "source": [
    "# test teleport\n",
    "import random\n",
    "\n",
    "event = agent.make_controller_single_action(\"RotateRight\", 0)\n",
    "objs = event.metadata['objects']\n",
    "random_index = random.randint(0, len(objs) - 1)\n",
    "to_tele_name = objs[random_index][\"objectType\"] \n",
    "print(to_tele_name)\n",
    "agent.make_controller_teleport_to_object(to_tele_name)\n",
    "event = agent.make_controller_single_action(\"RotateRight\", 0)\n",
    "\n"
   ]
  },
  {
   "cell_type": "code",
   "execution_count": null,
   "metadata": {},
   "outputs": [],
   "source": [
    "# event = agent.make_controller_single_action(\"LookDown\")"
   ]
  },
  {
   "cell_type": "code",
   "execution_count": null,
   "metadata": {},
   "outputs": [],
   "source": [
    "# depth_frame = event.depth_frame\n",
    "# detections = event.instance_detections2D\n",
    "\n",
    "# for key in detections.keys():\n",
    "#     print(str(key))"
   ]
  },
  {
   "cell_type": "markdown",
   "metadata": {},
   "source": [
    "#### 自动执行 Agent"
   ]
  },
  {
   "cell_type": "code",
   "execution_count": 4,
   "metadata": {},
   "outputs": [],
   "source": [
    "import errno\n",
    "\n",
    "test_name = \"sub_ep_test_0804_1_split1\"\n",
    "rec_rootpath = f\"./test_records/{test_name}/\"\n",
    "temp_result_path = f\"./exp_temp_result/{test_name}.txt\"\n",
    "\n",
    "def make_dir_by_filepath(filepath):\n",
    "    try:\n",
    "        os.makedirs(os.path.dirname(filepath))\n",
    "    except OSError as exc: # 如果在创建目录时发生错误\n",
    "        if exc.errno != errno.EEXIST: # 如果错误不是“目录已经存在”的错误\n",
    "            raise\n"
   ]
  },
  {
   "cell_type": "code",
   "execution_count": 5,
   "metadata": {},
   "outputs": [
    {
     "name": "stdout",
     "output_type": "stream",
     "text": [
      "./test_records/sub_ep_test_0804_1_split1/\n"
     ]
    }
   ],
   "source": [
    "start_index = 0\n",
    "length = 450\n",
    "print(rec_rootpath)"
   ]
  },
  {
   "cell_type": "code",
   "execution_count": 7,
   "metadata": {},
   "outputs": [
    {
     "ename": "ValueError",
     "evalue": "\nScene 'FloorPlan_test-challenge1_1' not contained in build (scene names are case sensitive).\nPlease choose one of the following scene names:\n\nArchitecTHOR-Test-00, ArchitecTHOR-Test-01, ArchitecTHOR-Test-02, ArchitecTHOR-Test-03, ArchitecTHOR-Test-04, ArchitecTHOR-Val-00, ArchitecTHOR-Val-01, ArchitecTHOR-Val-02, ArchitecTHOR-Val-03, ArchitecTHOR-Val-04, FloorPlan10_physics, FloorPlan11_physics, FloorPlan12_physics, FloorPlan13_physics, FloorPlan14_physics, FloorPlan15_physics, FloorPlan16_physics, FloorPlan17_physics, FloorPlan18_physics, FloorPlan19_physics, FloorPlan1_physics, FloorPlan201_physics, FloorPlan202_physics, FloorPlan203_physics, FloorPlan204_physics, FloorPlan205_physics, FloorPlan206_physics, FloorPlan207_physics, FloorPlan208_physics, FloorPlan209_physics, FloorPlan20_physics, FloorPlan210_physics, FloorPlan211_physics, FloorPlan212_physics, FloorPlan213_physics, FloorPlan214_physics, FloorPlan215_physics, FloorPlan216_physics, FloorPlan217_physics, FloorPlan218_physics, FloorPlan219_physics, FloorPlan21_physics, FloorPlan220_physics, FloorPlan221_physics, FloorPlan222_physics, FloorPlan223_physics, FloorPlan224_physics, FloorPlan225_physics, FloorPlan226_physics, FloorPlan227_physics, FloorPlan228_physics, FloorPlan229_physics, FloorPlan22_physics, FloorPlan230_physics, FloorPlan23_physics, FloorPlan24_physics, FloorPlan25_physics, FloorPlan26_physics, FloorPlan27_physics, FloorPlan28_physics, FloorPlan29_physics, FloorPlan2_physics, FloorPlan301_physics, FloorPlan302_physics, FloorPlan303_physics, FloorPlan304_physics, FloorPlan305_physics, FloorPlan306_physics, FloorPlan307_physics, FloorPlan308_physics, FloorPlan309_physics, FloorPlan30_physics, FloorPlan310_physics, FloorPlan311_physics, FloorPlan312_physics, FloorPlan313_physics, FloorPlan314_physics, FloorPlan315_physics, FloorPlan316_physics, FloorPlan317_physics, FloorPlan318_physics, FloorPlan319_physics, FloorPlan320_physics, FloorPlan321_physics, FloorPlan322_physics, FloorPlan323_physics, FloorPlan324_physics, FloorPlan325_physics, FloorPlan326_physics, FloorPlan327_physics, FloorPlan328_physics, FloorPlan329_physics, FloorPlan330_physics, FloorPlan3_physics, FloorPlan401_physics, FloorPlan402_physics, FloorPlan403_physics, FloorPlan404_physics, FloorPlan405_physics, FloorPlan406_physics, FloorPlan407_physics, FloorPlan408_physics, FloorPlan409_physics, FloorPlan410_physics, FloorPlan411_physics, FloorPlan412_physics, FloorPlan413_physics, FloorPlan414_physics, FloorPlan415_physics, FloorPlan416_physics, FloorPlan417_physics, FloorPlan418_physics, FloorPlan419_physics, FloorPlan420_physics, FloorPlan421_physics, FloorPlan422_physics, FloorPlan423_physics, FloorPlan424_physics, FloorPlan425_physics, FloorPlan426_physics, FloorPlan427_physics, FloorPlan428_physics, FloorPlan429_physics, FloorPlan430_physics, FloorPlan4_physics, FloorPlan5_physics, FloorPlan6_physics, FloorPlan7_physics, FloorPlan8_physics, FloorPlan9_physics, FloorPlan_ExpRoom, FloorPlan_Train10_1, FloorPlan_Train10_2, FloorPlan_Train10_3, FloorPlan_Train10_4, FloorPlan_Train10_5, FloorPlan_Train11_1, FloorPlan_Train11_2, FloorPlan_Train11_3, FloorPlan_Train11_4, FloorPlan_Train11_5, FloorPlan_Train12_1, FloorPlan_Train12_2, FloorPlan_Train12_3, FloorPlan_Train12_4, FloorPlan_Train12_5, FloorPlan_Train1_1, FloorPlan_Train1_2, FloorPlan_Train1_3, FloorPlan_Train1_4, FloorPlan_Train1_5, FloorPlan_Train2_1, FloorPlan_Train2_2, FloorPlan_Train2_3, FloorPlan_Train2_4, FloorPlan_Train2_5, FloorPlan_Train3_1, FloorPlan_Train3_2, FloorPlan_Train3_3, FloorPlan_Train3_4, FloorPlan_Train3_5, FloorPlan_Train4_1, FloorPlan_Train4_2, FloorPlan_Train4_3, FloorPlan_Train4_4, FloorPlan_Train4_5, FloorPlan_Train5_1, FloorPlan_Train5_2, FloorPlan_Train5_3, FloorPlan_Train5_4, FloorPlan_Train5_5, FloorPlan_Train6_1, FloorPlan_Train6_2, FloorPlan_Train6_3, FloorPlan_Train6_4, FloorPlan_Train6_5, FloorPlan_Train7_1, FloorPlan_Train7_2, FloorPlan_Train7_3, FloorPlan_Train7_4, FloorPlan_Train7_5, FloorPlan_Train8_1, FloorPlan_Train8_2, FloorPlan_Train8_3, FloorPlan_Train8_4, FloorPlan_Train8_5, FloorPlan_Train9_1, FloorPlan_Train9_2, FloorPlan_Train9_3, FloorPlan_Train9_4, FloorPlan_Train9_5, FloorPlan_Train_Generated, FloorPlan_Val1_1, FloorPlan_Val1_2, FloorPlan_Val1_3, FloorPlan_Val1_4, FloorPlan_Val1_5, FloorPlan_Val2_1, FloorPlan_Val2_2, FloorPlan_Val2_3, FloorPlan_Val2_4, FloorPlan_Val2_5, FloorPlan_Val3_1, FloorPlan_Val3_2, FloorPlan_Val3_3, FloorPlan_Val3_4, FloorPlan_Val3_5, FloorPlan_test-dev2_2, Procedural, ProceduralNoLight, ProceduralSet, extreme_lighting_test, set_doors",
     "output_type": "error",
     "traceback": [
      "\u001b[0;31m---------------------------------------------------------------------------\u001b[0m",
      "\u001b[0;31mValueError\u001b[0m                                Traceback (most recent call last)",
      "Cell \u001b[0;32mIn[7], line 1\u001b[0m\n\u001b[0;32m----> 1\u001b[0m agent\u001b[39m.\u001b[39;49minit_epsoide(test_episodes[\u001b[39m2\u001b[39;49m])\n\u001b[1;32m      2\u001b[0m gpt_success \u001b[39m=\u001b[39m \u001b[39m0\u001b[39m\n\u001b[1;32m      3\u001b[0m true_positive_success \u001b[39m=\u001b[39m \u001b[39m0\u001b[39m\n",
      "File \u001b[0;32m~/ai2thor/llm_obj_nav_agent.py:1175\u001b[0m, in \u001b[0;36mAgent.init_epsoide\u001b[0;34m(self, ep)\u001b[0m\n\u001b[1;32m   1172\u001b[0m \u001b[39mself\u001b[39m\u001b[39m.\u001b[39mSIM_ARGS\u001b[39m.\u001b[39mrules_achieve \u001b[39m=\u001b[39m \u001b[39mFalse\u001b[39;00m\n\u001b[1;32m   1174\u001b[0m \u001b[39m# 先调用，以获得Controller和初始位置event\u001b[39;00m\n\u001b[0;32m-> 1175\u001b[0m \u001b[39mself\u001b[39m\u001b[39m.\u001b[39mcontroller, init_event, \u001b[39mself\u001b[39m\u001b[39m.\u001b[39mSIM_ARGS\u001b[39m.\u001b[39mtarget_object_type \u001b[39m=\u001b[39m start_scene_by_episode(\n\u001b[1;32m   1176\u001b[0m     \u001b[39mself\u001b[39;49m\u001b[39m.\u001b[39;49mSIM_ARGS, ep)\n\u001b[1;32m   1177\u001b[0m \u001b[39m# 获取有效物体列表\u001b[39;00m\n\u001b[1;32m   1178\u001b[0m \u001b[39mself\u001b[39m\u001b[39m.\u001b[39mSIM_ARGS\u001b[39m.\u001b[39mvaild_obj_types \u001b[39m=\u001b[39m get_vaild_obj_types(init_event)\n",
      "File \u001b[0;32m~/ai2thor/llm_obj_nav_agent.py:112\u001b[0m, in \u001b[0;36mstart_scene_by_episode\u001b[0;34m(sim_args, episode)\u001b[0m\n\u001b[1;32m    110\u001b[0m \u001b[39mdef\u001b[39;00m \u001b[39mstart_scene_by_episode\u001b[39m(sim_args, episode):\n\u001b[1;32m    111\u001b[0m     \u001b[39m# init\u001b[39;00m\n\u001b[0;32m--> 112\u001b[0m     controller \u001b[39m=\u001b[39m Controller(\n\u001b[1;32m    113\u001b[0m         agentMode\u001b[39m=\u001b[39;49m\u001b[39m\"\u001b[39;49m\u001b[39mlocobot\u001b[39;49m\u001b[39m\"\u001b[39;49m,\n\u001b[1;32m    114\u001b[0m         visibilityDistance\u001b[39m=\u001b[39;49msim_args\u001b[39m.\u001b[39;49mVISIBLE_DISTANCE,\n\u001b[1;32m    115\u001b[0m         gridSize\u001b[39m=\u001b[39;49msim_args\u001b[39m.\u001b[39;49mGRID_SIZE,\n\u001b[1;32m    116\u001b[0m         width\u001b[39m=\u001b[39;49msim_args\u001b[39m.\u001b[39;49mVIEW_WIDTH,\n\u001b[1;32m    117\u001b[0m         height\u001b[39m=\u001b[39;49msim_args\u001b[39m.\u001b[39;49mVIEW_HEIGHT,\n\u001b[1;32m    118\u001b[0m         fieldOfView\u001b[39m=\u001b[39;49msim_args\u001b[39m.\u001b[39;49mFIELD_OF_VIEW,\n\u001b[1;32m    119\u001b[0m         renderDepthImage\u001b[39m=\u001b[39;49m\u001b[39mTrue\u001b[39;49;00m,\n\u001b[1;32m    120\u001b[0m         renderInstanceSegmentation\u001b[39m=\u001b[39;49m\u001b[39mTrue\u001b[39;49;00m,\n\u001b[1;32m    121\u001b[0m         scene\u001b[39m=\u001b[39;49mepisode[\u001b[39m'\u001b[39;49m\u001b[39mscene\u001b[39;49m\u001b[39m'\u001b[39;49m])\n\u001b[1;32m    123\u001b[0m     target_object_type \u001b[39m=\u001b[39m episode[\u001b[39m'\u001b[39m\u001b[39mobject_type\u001b[39m\u001b[39m'\u001b[39m]\n\u001b[1;32m    124\u001b[0m     \u001b[39m# print(\"target type: \" + target_object_type)\u001b[39;00m\n\u001b[1;32m    125\u001b[0m \n\u001b[1;32m    126\u001b[0m     \u001b[39m# teleport to start pos\u001b[39;00m\n",
      "File \u001b[0;32m~/.conda/envs/eai/lib/python3.8/site-packages/ai2thor/controller.py:589\u001b[0m, in \u001b[0;36mController.__init__\u001b[0;34m(self, quality, fullscreen, headless, port, start_unity, local_executable_path, local_build, commit_id, branch, width, height, x_display, host, scene, image_dir, save_image_per_frame, depth_format, add_depth_noise, download_only, include_private_scenes, server_class, gpu_device, platform, server_timeout, server_start_timeout, **unity_initialization_parameters)\u001b[0m\n\u001b[1;32m    585\u001b[0m         \u001b[39melse\u001b[39;00m:\n\u001b[1;32m    586\u001b[0m             \u001b[39m# perhaps only using RoboTHOR or using only custom scenes\u001b[39;00m\n\u001b[1;32m    587\u001b[0m             scene \u001b[39m=\u001b[39m \u001b[39msorted\u001b[39m(\u001b[39mlist\u001b[39m(scenes_in_build))[\u001b[39m0\u001b[39m]\n\u001b[0;32m--> 589\u001b[0m event \u001b[39m=\u001b[39m \u001b[39mself\u001b[39;49m\u001b[39m.\u001b[39;49mreset(scene)\n\u001b[1;32m    591\u001b[0m \u001b[39m# older builds don't send actionReturn on Initialize\u001b[39;00m\n\u001b[1;32m    592\u001b[0m init_return \u001b[39m=\u001b[39m event\u001b[39m.\u001b[39mmetadata[\u001b[39m\"\u001b[39m\u001b[39mactionReturn\u001b[39m\u001b[39m\"\u001b[39m]\n",
      "File \u001b[0;32m~/.conda/envs/eai/lib/python3.8/site-packages/ai2thor/controller.py:670\u001b[0m, in \u001b[0;36mController.reset\u001b[0;34m(self, scene, **init_params)\u001b[0m\n\u001b[1;32m    667\u001b[0m \u001b[39m# scenes in build can be an empty set when GetScenesInBuild doesn't exist as an action\u001b[39;00m\n\u001b[1;32m    668\u001b[0m \u001b[39m# for old builds\u001b[39;00m\n\u001b[1;32m    669\u001b[0m \u001b[39mif\u001b[39;00m \u001b[39mself\u001b[39m\u001b[39m.\u001b[39mscenes_in_build \u001b[39mand\u001b[39;00m scene \u001b[39mnot\u001b[39;00m \u001b[39min\u001b[39;00m \u001b[39mself\u001b[39m\u001b[39m.\u001b[39mscenes_in_build:\n\u001b[0;32m--> 670\u001b[0m     \u001b[39mraise\u001b[39;00m \u001b[39mValueError\u001b[39;00m(\n\u001b[1;32m    671\u001b[0m         \u001b[39m\"\u001b[39m\u001b[39m\\n\u001b[39;00m\u001b[39mScene \u001b[39m\u001b[39m'\u001b[39m\u001b[39m{}\u001b[39;00m\u001b[39m'\u001b[39m\u001b[39m not contained in build (scene names are case sensitive).\u001b[39m\u001b[39m\"\u001b[39m\n\u001b[1;32m    672\u001b[0m         \u001b[39m\"\u001b[39m\u001b[39m\\n\u001b[39;00m\u001b[39mPlease choose one of the following scene names:\u001b[39m\u001b[39m\\n\u001b[39;00m\u001b[39m\\n\u001b[39;00m\u001b[39m{}\u001b[39;00m\u001b[39m\"\u001b[39m\u001b[39m.\u001b[39mformat(\n\u001b[1;32m    673\u001b[0m             scene,\n\u001b[1;32m    674\u001b[0m             \u001b[39m\"\u001b[39m\u001b[39m, \u001b[39m\u001b[39m\"\u001b[39m\u001b[39m.\u001b[39mjoin(\u001b[39msorted\u001b[39m(\u001b[39mlist\u001b[39m(\u001b[39mself\u001b[39m\u001b[39m.\u001b[39mscenes_in_build))),\n\u001b[1;32m    675\u001b[0m         )\n\u001b[1;32m    676\u001b[0m     )\n\u001b[1;32m    678\u001b[0m \u001b[39mself\u001b[39m\u001b[39m.\u001b[39mserver\u001b[39m.\u001b[39msend(\u001b[39mdict\u001b[39m(action\u001b[39m=\u001b[39m\u001b[39m\"\u001b[39m\u001b[39mReset\u001b[39m\u001b[39m\"\u001b[39m, sceneName\u001b[39m=\u001b[39mscene, sequenceId\u001b[39m=\u001b[39m\u001b[39m0\u001b[39m))\n\u001b[1;32m    679\u001b[0m \u001b[39mself\u001b[39m\u001b[39m.\u001b[39mlast_event \u001b[39m=\u001b[39m \u001b[39mself\u001b[39m\u001b[39m.\u001b[39mserver\u001b[39m.\u001b[39mreceive()\n",
      "\u001b[0;31mValueError\u001b[0m: \nScene 'FloorPlan_test-challenge1_1' not contained in build (scene names are case sensitive).\nPlease choose one of the following scene names:\n\nArchitecTHOR-Test-00, ArchitecTHOR-Test-01, ArchitecTHOR-Test-02, ArchitecTHOR-Test-03, ArchitecTHOR-Test-04, ArchitecTHOR-Val-00, ArchitecTHOR-Val-01, ArchitecTHOR-Val-02, ArchitecTHOR-Val-03, ArchitecTHOR-Val-04, FloorPlan10_physics, FloorPlan11_physics, FloorPlan12_physics, FloorPlan13_physics, FloorPlan14_physics, FloorPlan15_physics, FloorPlan16_physics, FloorPlan17_physics, FloorPlan18_physics, FloorPlan19_physics, FloorPlan1_physics, FloorPlan201_physics, FloorPlan202_physics, FloorPlan203_physics, FloorPlan204_physics, FloorPlan205_physics, FloorPlan206_physics, FloorPlan207_physics, FloorPlan208_physics, FloorPlan209_physics, FloorPlan20_physics, FloorPlan210_physics, FloorPlan211_physics, FloorPlan212_physics, FloorPlan213_physics, FloorPlan214_physics, FloorPlan215_physics, FloorPlan216_physics, FloorPlan217_physics, FloorPlan218_physics, FloorPlan219_physics, FloorPlan21_physics, FloorPlan220_physics, FloorPlan221_physics, FloorPlan222_physics, FloorPlan223_physics, FloorPlan224_physics, FloorPlan225_physics, FloorPlan226_physics, FloorPlan227_physics, FloorPlan228_physics, FloorPlan229_physics, FloorPlan22_physics, FloorPlan230_physics, FloorPlan23_physics, FloorPlan24_physics, FloorPlan25_physics, FloorPlan26_physics, FloorPlan27_physics, FloorPlan28_physics, FloorPlan29_physics, FloorPlan2_physics, FloorPlan301_physics, FloorPlan302_physics, FloorPlan303_physics, FloorPlan304_physics, FloorPlan305_physics, FloorPlan306_physics, FloorPlan307_physics, FloorPlan308_physics, FloorPlan309_physics, FloorPlan30_physics, FloorPlan310_physics, FloorPlan311_physics, FloorPlan312_physics, FloorPlan313_physics, FloorPlan314_physics, FloorPlan315_physics, FloorPlan316_physics, FloorPlan317_physics, FloorPlan318_physics, FloorPlan319_physics, FloorPlan320_physics, FloorPlan321_physics, FloorPlan322_physics, FloorPlan323_physics, FloorPlan324_physics, FloorPlan325_physics, FloorPlan326_physics, FloorPlan327_physics, FloorPlan328_physics, FloorPlan329_physics, FloorPlan330_physics, FloorPlan3_physics, FloorPlan401_physics, FloorPlan402_physics, FloorPlan403_physics, FloorPlan404_physics, FloorPlan405_physics, FloorPlan406_physics, FloorPlan407_physics, FloorPlan408_physics, FloorPlan409_physics, FloorPlan410_physics, FloorPlan411_physics, FloorPlan412_physics, FloorPlan413_physics, FloorPlan414_physics, FloorPlan415_physics, FloorPlan416_physics, FloorPlan417_physics, FloorPlan418_physics, FloorPlan419_physics, FloorPlan420_physics, FloorPlan421_physics, FloorPlan422_physics, FloorPlan423_physics, FloorPlan424_physics, FloorPlan425_physics, FloorPlan426_physics, FloorPlan427_physics, FloorPlan428_physics, FloorPlan429_physics, FloorPlan430_physics, FloorPlan4_physics, FloorPlan5_physics, FloorPlan6_physics, FloorPlan7_physics, FloorPlan8_physics, FloorPlan9_physics, FloorPlan_ExpRoom, FloorPlan_Train10_1, FloorPlan_Train10_2, FloorPlan_Train10_3, FloorPlan_Train10_4, FloorPlan_Train10_5, FloorPlan_Train11_1, FloorPlan_Train11_2, FloorPlan_Train11_3, FloorPlan_Train11_4, FloorPlan_Train11_5, FloorPlan_Train12_1, FloorPlan_Train12_2, FloorPlan_Train12_3, FloorPlan_Train12_4, FloorPlan_Train12_5, FloorPlan_Train1_1, FloorPlan_Train1_2, FloorPlan_Train1_3, FloorPlan_Train1_4, FloorPlan_Train1_5, FloorPlan_Train2_1, FloorPlan_Train2_2, FloorPlan_Train2_3, FloorPlan_Train2_4, FloorPlan_Train2_5, FloorPlan_Train3_1, FloorPlan_Train3_2, FloorPlan_Train3_3, FloorPlan_Train3_4, FloorPlan_Train3_5, FloorPlan_Train4_1, FloorPlan_Train4_2, FloorPlan_Train4_3, FloorPlan_Train4_4, FloorPlan_Train4_5, FloorPlan_Train5_1, FloorPlan_Train5_2, FloorPlan_Train5_3, FloorPlan_Train5_4, FloorPlan_Train5_5, FloorPlan_Train6_1, FloorPlan_Train6_2, FloorPlan_Train6_3, FloorPlan_Train6_4, FloorPlan_Train6_5, FloorPlan_Train7_1, FloorPlan_Train7_2, FloorPlan_Train7_3, FloorPlan_Train7_4, FloorPlan_Train7_5, FloorPlan_Train8_1, FloorPlan_Train8_2, FloorPlan_Train8_3, FloorPlan_Train8_4, FloorPlan_Train8_5, FloorPlan_Train9_1, FloorPlan_Train9_2, FloorPlan_Train9_3, FloorPlan_Train9_4, FloorPlan_Train9_5, FloorPlan_Train_Generated, FloorPlan_Val1_1, FloorPlan_Val1_2, FloorPlan_Val1_3, FloorPlan_Val1_4, FloorPlan_Val1_5, FloorPlan_Val2_1, FloorPlan_Val2_2, FloorPlan_Val2_3, FloorPlan_Val2_4, FloorPlan_Val2_5, FloorPlan_Val3_1, FloorPlan_Val3_2, FloorPlan_Val3_3, FloorPlan_Val3_4, FloorPlan_Val3_5, FloorPlan_test-dev2_2, Procedural, ProceduralNoLight, ProceduralSet, extreme_lighting_test, set_doors"
     ]
    }
   ],
   "source": [
    "agent.init_epsoide(test_episodes[2])\n",
    "gpt_success = 0\n",
    "true_positive_success = 0\n",
    "rule_success = 0\n",
    "exceptioon_occr = 0"
   ]
  },
  {
   "cell_type": "code",
   "execution_count": null,
   "metadata": {},
   "outputs": [],
   "source": [
    "for i in range(start_index, length):\n",
    "    ep = test_episodes[i]\n",
    "    # 修改日志文件目录\n",
    "    try:\n",
    "        rec_path = os.path.join(rec_rootpath, f\"{i}_{ep['id']}\")\n",
    "        agent.log_file_path = os.path.join(rec_path, \"gpt_chat_log.txt\")\n",
    "        agent.record_file_path = os.path.join(rec_path, \"trajectory_record_log.json\")\n",
    "        if not os.path.exists(os.path.dirname(agent.log_file_path)):\n",
    "            make_dir_by_filepath(agent.log_file_path)\n",
    "    except Exception as e:\n",
    "        print(f\"<Set log file path failed! Using default filepath. Detail: {e}>\")\n",
    "        agent.log_file_path = os.path.join(rec_rootpath, \"defalut_gpt_chat_log.txt\")\n",
    "        agent.record_file_path = os.path.join(rec_rootpath, \"defalut_trajectory_record_log.json\")\n",
    "        \n",
    "    # 自动执行\n",
    "    result = agent.auto_do_nav_episode(ep)\n",
    "    if result[2]:\n",
    "        gpt_success += result[0]\n",
    "        rule_success += result[1]\n",
    "        if result[0] == 1 and result[1] == 1:\n",
    "            true_positive_success += 1\n",
    "    else:\n",
    "        exceptioon_occr += 1\n",
    "    \n",
    "    res = {\n",
    "        \"Finished ep index\": i,\n",
    "        \"SR\": true_positive_success,\n",
    "        \"SR_GPT\" : gpt_success,\n",
    "        \"SR_RULE\" : rule_success,\n",
    "        \"Exception cnt\" : exceptioon_occr\n",
    "    }\n",
    "    # 写入临时结果\n",
    "    with open(temp_result_path, 'w') as f:\n",
    "        f.write(json.dumps(res))\n",
    "\n",
    "print(f\"------------------RESULT------------------\" )\n",
    "print(f\"SR = {true_positive_success / length}\" )\n",
    "print(f\"SR_GPT = {gpt_success / length}\" )\n",
    "print(f\"SR_RULE = {rule_success / length}\" )\n",
    "print(f\"exception cnt = {exceptioon_occr}\" )"
   ]
  },
  {
   "cell_type": "code",
   "execution_count": null,
   "metadata": {},
   "outputs": [],
   "source": [
    "import os\n",
    "\n",
    "def count_done_in_second_last_line(dir_path):\n",
    "    count = 0\n",
    "    for root, dirs, files in os.walk(dir_path):\n",
    "        for file in files:\n",
    "            if file == 'gpt_chat_log.txt':\n",
    "                filepath = os.path.join(root, file)\n",
    "                with open(filepath, 'r') as f:\n",
    "                    lines = f.readlines()\n",
    "                    if len(lines) >= 2 and 'Done' in lines[-2]:\n",
    "                        count += 1\n",
    "            \n",
    "    return count\n",
    "\n",
    "path = rec_rootpath\n",
    "print(f'Done: {count_done_in_second_last_line(path)}')\n"
   ]
  },
  {
   "cell_type": "code",
   "execution_count": null,
   "metadata": {},
   "outputs": [],
   "source": [
    "import os\n",
    "import json\n",
    "\n",
    "def count_done_and_rules_achieved(dir_path):\n",
    "    count = 0\n",
    "    for root, dirs, files in os.walk(dir_path):\n",
    "        if 'gpt_chat_log.txt' in files and 'trajectory_record_log.txt' in files:\n",
    "            gpt_log_path = os.path.join(root, 'gpt_chat_log.txt')\n",
    "            trajectory_log_path = os.path.join(root, 'trajectory_record_log.txt')\n",
    "\n",
    "            with open(gpt_log_path, 'r') as gpt_log:\n",
    "                lines = gpt_log.readlines()\n",
    "                gpt_condition = len(lines) >= 2 and 'Done' in lines[-2]\n",
    "\n",
    "            with open(trajectory_log_path, 'r') as trajectory_log:\n",
    "                json_list = json.load(trajectory_log)\n",
    "                if json_list:\n",
    "                    # print(json_list[-1])\n",
    "                    trajectory_condition = json_list[-1]['rules_achieve']\n",
    "            \n",
    "            if gpt_condition and not trajectory_condition:\n",
    "                print(gpt_log_path)\n",
    "\n",
    "            if gpt_condition and trajectory_condition:\n",
    "                count += 1\n",
    "                \n",
    "    return count\n",
    "print(f'True Positive: {count_done_and_rules_achieved(path)}')\n"
   ]
  },
  {
   "cell_type": "code",
   "execution_count": null,
   "metadata": {},
   "outputs": [],
   "source": [
    "import os\n",
    "import json\n",
    "\n",
    "def count_rules_achieved(dir_path):\n",
    "    count = 0\n",
    "    for root, dirs, files in os.walk(dir_path):\n",
    "        if 'trajectory_record_log.txt' in files:\n",
    "            gpt_log_path = os.path.join(root, 'gpt_chat_log.txt')\n",
    "            trajectory_log_path = os.path.join(root, 'trajectory_record_log.txt')\n",
    "\n",
    "            trajectory_condition = False\n",
    "            with open(trajectory_log_path, 'r') as trajectory_log:\n",
    "                json_list = json.load(trajectory_log)\n",
    "                if json_list:\n",
    "                    for each in json_list:\n",
    "                        if each['rules_achieve']:\n",
    "                            trajectory_condition = True\n",
    "                    # print(json_list[-1])\n",
    "                    # trajectory_condition = json_list[-1]['rules_achieve']\n",
    "\n",
    "            if trajectory_condition:\n",
    "                count += 1\n",
    "                \n",
    "    return count\n",
    "print(f'Positive: {count_rules_achieved(path)}')"
   ]
  },
  {
   "cell_type": "code",
   "execution_count": null,
   "metadata": {},
   "outputs": [],
   "source": [
    "# Test parsing output string\n",
    "import re\n",
    "msg_string = \"\"\"Thought [1]: The target object, GarbageCan, is not visible in the current observation. The maximum distance of accessibility is in the Rear direction with a distance of 6.50m. However, there are many objects in that direction, and the GarbageCan is not among them. The Rear Left direction has a maximum distance of accessibility of 1.77m, and there are also many objects in that direction, but again, the GarbageCan is not among them. The other directions have limited accessibility. Therefore, the best course of action would be to move towards the Rear direction, which has the highest accessibility and a variety of objects, increasing the chances of finding the GarbageCan.\n",
    "\n",
    "Action [1]: MoveAhead 6.50\n",
    "\n",
    "Observation [2]:\n",
    "<Direction: Front\n",
    "Objects detail: [{\"RemoteControl\": \"Middle center, 0.67m\"}, {\"Pot\": \"Middle right, 2.88m\"}, {\"Chair\": \"Middle center and Down center, 0.67m\"}, {\"Desk\": \"Middle center, 0.66m\"}, {\"Painting\": \"Middle center and Top center, 1.24m\"}, {\"ArmChair\": \"Middle right and Down right, 5.12m\"}, {\"Floor\": \"Middle center and Down center, 2.28m\"}, {\"Bed\": \"Middle right, 0.71m\"}, {\"BaseballBat\": \"Down center, 1.69m\"}]\n",
    "Maximum distance of accessibility: \"0.50m\"\"\"\n",
    "\n",
    "raw_msgs = msg_string.split('\\n')\n",
    "thought_str = \"\"\n",
    "action_str = \"\"\n",
    "find_flag = False\n",
    "for s in raw_msgs:\n",
    "    pattern_t = r'^Thought\\s*\\[(\\d+)\\]:\\s*(.*)$'\n",
    "    match = re.match(pattern_t, s)\n",
    "    if match:\n",
    "        thought_str = match.group(2)\n",
    "    else:\n",
    "        pattern_a = r'^Action\\s*\\[(\\d+)\\]:\\s*(.*)$'\n",
    "        match = re.match(pattern_a, s)\n",
    "        if match:\n",
    "            action_str = match.group(2)\n",
    "            find_flag = True\n",
    "            break\n",
    "if not find_flag:\n",
    "    print(\"[Operation]Error: receiving action output string with wrong format.\")\n",
    "else:\n",
    "    print(f\"T: {thought_str} \\nA: {action_str}\")"
   ]
  },
  {
   "cell_type": "code",
   "execution_count": null,
   "metadata": {},
   "outputs": [],
   "source": [
    "# Test parsing output string\n",
    "import re\n",
    "action_str = \"\"\"Done\"\"\"\n",
    "action_pattern = r\"\\s*(MoveTo|RotateTo)\\s*(.*)\\s*|^(Done)$\"\n",
    "action_match = re.match(action_pattern, action_str)\n",
    "if action_match:\n",
    "    if action_match.group(3):\n",
    "        print(action_match.group(3) + \"?\")\n",
    "        res_dict = {\n",
    "            'name': action_match.group(3),\n",
    "            'param': \"\",\n",
    "            'action_type': OpType.FOLLOW_OBJ\n",
    "        }\n",
    "    else:\n",
    "        action_name = action_match.group(1)\n",
    "        print(action_match.group(2))\n",
    "        param1 = action_match.group(2)\n",
    "        res_dict = {\n",
    "            'name': action_name,\n",
    "            'param': param1,\n",
    "            'action_type': OpType.FOLLOW_OBJ\n",
    "        }\n",
    "    print(res_dict)\n",
    "else:\n",
    "    print(\"[Output Extract]The input string does not match the ACTION pattern.\")"
   ]
  }
 ],
 "metadata": {
  "kernelspec": {
   "display_name": "yolov8_env",
   "language": "python",
   "name": "python3"
  },
  "language_info": {
   "codemirror_mode": {
    "name": "ipython",
    "version": 3
   },
   "file_extension": ".py",
   "mimetype": "text/x-python",
   "name": "python",
   "nbconvert_exporter": "python",
   "pygments_lexer": "ipython3",
   "version": "3.8.17"
  },
  "orig_nbformat": 4
 },
 "nbformat": 4,
 "nbformat_minor": 2
}
